{
 "cells": [
  {
   "cell_type": "code",
   "execution_count": 1,
   "metadata": {},
   "outputs": [],
   "source": [
    "# Import library yang dibutuhkan\n",
    "import pandas as pd"
   ]
  },
  {
   "cell_type": "code",
   "execution_count": 2,
   "metadata": {},
   "outputs": [],
   "source": [
    "# Load data dari file CSV\n",
    "file_path = 'Cleaned_Online_Retail_Data.csv'  # Pastikan file berada di folder kerja yang sama\n",
    "data = pd.read_csv(file_path)"
   ]
  },
  {
   "cell_type": "code",
   "execution_count": 3,
   "metadata": {},
   "outputs": [],
   "source": [
    "# Parsing kolom 'InvoiceDate' ke format datetime\n",
    "data['InvoiceDate'] = pd.to_datetime(data['InvoiceDate'])\n",
    "\n",
    "# Tambahkan kolom 'YearMonth' untuk agregasi per bulan\n",
    "data['YearMonth'] = data['InvoiceDate'].dt.to_period('M')\n",
    "\n",
    "# Lakukan agregasi untuk setiap negara dan total UnitPrice setiap bulannya\n",
    "aggregated_data = data.groupby(['Country', 'YearMonth']).agg({'UnitPrice': 'sum'}).reset_index()\n",
    "\n",
    "# Konversi kolom 'YearMonth' ke format string untuk visualisasi\n",
    "aggregated_data['YearMonth'] = aggregated_data['YearMonth'].astype(str)"
   ]
  },
  {
   "cell_type": "code",
   "execution_count": 4,
   "metadata": {},
   "outputs": [
    {
     "name": "stdout",
     "output_type": "stream",
     "text": [
      "File hasil aggregasi disimpan sebagai: Aggregasi.xlsx\n"
     ]
    }
   ],
   "source": [
    "# Simpan hasil ke file Excel\n",
    "output_file_path = 'Aggregasi.xlsx'\n",
    "aggregated_data.to_excel(output_file_path, index=False)\n",
    "\n",
    "print(f\"File hasil aggregasi disimpan sebagai: {output_file_path}\")"
   ]
  }
 ],
 "metadata": {
  "kernelspec": {
   "display_name": "Python 3",
   "language": "python",
   "name": "python3"
  },
  "language_info": {
   "codemirror_mode": {
    "name": "ipython",
    "version": 3
   },
   "file_extension": ".py",
   "mimetype": "text/x-python",
   "name": "python",
   "nbconvert_exporter": "python",
   "pygments_lexer": "ipython3",
   "version": "3.13.0"
  }
 },
 "nbformat": 4,
 "nbformat_minor": 2
}
