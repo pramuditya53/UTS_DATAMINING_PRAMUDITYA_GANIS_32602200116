{
 "cells": [
  {
   "cell_type": "code",
   "execution_count": 6,
   "metadata": {},
   "outputs": [],
   "source": [
    "import pandas as pd"
   ]
  },
  {
   "cell_type": "code",
   "execution_count": 7,
   "metadata": {},
   "outputs": [],
   "source": [
    "# Load dataset\n",
    "file_path = 'Online Retail-unclean.xlsx'  # Ganti dengan path file Anda\n",
    "data = pd.read_excel(file_path)"
   ]
  },
  {
   "cell_type": "markdown",
   "metadata": {},
   "source": [
    "### cek data missing"
   ]
  },
  {
   "cell_type": "code",
   "execution_count": 8,
   "metadata": {},
   "outputs": [
    {
     "name": "stdout",
     "output_type": "stream",
     "text": [
      "Jumlah missing data per kolom:\n",
      "InvoiceNo           0\n",
      "StockCode           0\n",
      "Description      1454\n",
      "Quantity            0\n",
      "InvoiceDate         0\n",
      "UnitPrice           5\n",
      "CustomerID     135086\n",
      "Country             8\n",
      "dtype: int64\n",
      "\n",
      "Baris dengan missing data:\n",
      "       InvoiceNo StockCode                      Description  Quantity  \\\n",
      "205       536389     22726       ALARM CLOCK BAKELIKE GREEN         4   \n",
      "622       536414     22139                              NaN        56   \n",
      "1443      536544     21773  DECORATIVE ROSE BATHROOM BOTTLE         1   \n",
      "1444      536544     21774  DECORATIVE CATS BATHROOM BOTTLE         2   \n",
      "1445      536544     21786               POLKADOT RAIN HAT          4   \n",
      "...          ...       ...                              ...       ...   \n",
      "541536    581498    85099B          JUMBO BAG RED RETROSPOT         5   \n",
      "541537    581498    85099C   JUMBO  BAG BAROQUE BLACK WHITE         4   \n",
      "541538    581498     85150    LADIES & GENTLEMEN METAL SIGN         1   \n",
      "541539    581498     85174                S/4 CACTI CANDLES         1   \n",
      "541540    581498       DOT                   DOTCOM POSTAGE         1   \n",
      "\n",
      "               InvoiceDate  UnitPrice  CustomerID         Country  \n",
      "205    2010-12-01 10:03:00        NaN     12431.0       Australia  \n",
      "622    2010-12-01 11:52:00       0.00         NaN  United Kingdom  \n",
      "1443   2010-12-01 14:32:00       2.51         NaN  United Kingdom  \n",
      "1444   2010-12-01 14:32:00       2.51         NaN  United Kingdom  \n",
      "1445   2010-12-01 14:32:00       0.85         NaN  United Kingdom  \n",
      "...                    ...        ...         ...             ...  \n",
      "541536 2011-12-09 10:26:00       4.13         NaN  United Kingdom  \n",
      "541537 2011-12-09 10:26:00       4.13         NaN  United Kingdom  \n",
      "541538 2011-12-09 10:26:00       4.96         NaN  United Kingdom  \n",
      "541539 2011-12-09 10:26:00      10.79         NaN  United Kingdom  \n",
      "541540 2011-12-09 10:26:00    1714.17         NaN  United Kingdom  \n",
      "\n",
      "[135099 rows x 8 columns]\n"
     ]
    }
   ],
   "source": [
    "missing_summary = data.isnull().sum()\n",
    "print(\"Jumlah missing data per kolom:\")\n",
    "print(missing_summary)\n",
    "\n",
    "# Filter baris yang memiliki missing values\n",
    "missing_rows = data[data.isnull().any(axis=1)]\n",
    "print(\"\\nBaris dengan missing data:\")\n",
    "print(missing_rows)"
   ]
  },
  {
   "cell_type": "markdown",
   "metadata": {},
   "source": [
    "### Mengisi missing data pada kolom 'Description' berdasarkan 'StockCode'"
   ]
  },
  {
   "cell_type": "code",
   "execution_count": 9,
   "metadata": {},
   "outputs": [],
   "source": [
    "# Buat dictionary untuk mapping StockCode -> Description\n",
    "description_mapping = data.dropna(subset=['Description']).set_index('StockCode')['Description'].to_dict()\n",
    "\n",
    "# Isi missing values di 'Description' berdasarkan StockCode\n",
    "data['Description'] = data.apply(\n",
    "    lambda row: description_mapping.get(row['StockCode'], 'Unknown') if pd.isnull(row['Description']) else row['Description'],\n",
    "    axis=1\n",
    ")\n"
   ]
  },
  {
   "cell_type": "markdown",
   "metadata": {},
   "source": [
    "### Kolom numerik seperti UnitPrice bisa diisi dengan disamakan dengan stockcode yang sama"
   ]
  },
  {
   "cell_type": "code",
   "execution_count": 10,
   "metadata": {},
   "outputs": [],
   "source": [
    "data['UnitPrice'] = data['UnitPrice'].fillna(data['UnitPrice'].median())"
   ]
  },
  {
   "cell_type": "markdown",
   "metadata": {},
   "source": [
    "### 2. Mengisi missing data pada 'CustomerID' berdasarkan 'InvoiceNo'"
   ]
  },
  {
   "cell_type": "code",
   "execution_count": 11,
   "metadata": {},
   "outputs": [],
   "source": [
    "# Buat dictionary untuk mapping InvoiceNo -> CustomerID\n",
    "customer_id_mapping = data.dropna(subset=['CustomerID']).set_index('InvoiceNo')['CustomerID'].to_dict()\n",
    "\n",
    "# Isi missing values di 'CustomerID' berdasarkan InvoiceNo\n",
    "data['CustomerID'] = data.apply(\n",
    "    lambda row: customer_id_mapping.get(row['InvoiceNo'], 0) if pd.isnull(row['CustomerID']) else row['CustomerID'],\n",
    "    axis=1\n",
    ")"
   ]
  },
  {
   "cell_type": "markdown",
   "metadata": {},
   "source": [
    "### 3. Mengisi missing data pada 'Country' berdasarkan 'CustomerID'"
   ]
  },
  {
   "cell_type": "code",
   "execution_count": 12,
   "metadata": {},
   "outputs": [],
   "source": [
    "# Buat dictionary untuk mapping CustomerID -> Country\n",
    "country_mapping = data.dropna(subset=['Country']).set_index('CustomerID')['Country'].to_dict()\n",
    "\n",
    "# Isi missing values di 'Country' berdasarkan CustomerID\n",
    "data['Country'] = data.apply(\n",
    "    lambda row: country_mapping.get(row['CustomerID'], 'Unknown') if pd.isnull(row['Country']) else row['Country'],\n",
    "    axis=1\n",
    ")"
   ]
  },
  {
   "cell_type": "code",
   "execution_count": 13,
   "metadata": {},
   "outputs": [],
   "source": [
    "unit_price_mapping = data.dropna(subset=['UnitPrice']).set_index('StockCode')['UnitPrice'].to_dict()\n",
    "data['UnitPrice'] = data.apply(\n",
    "    lambda row: unit_price_mapping.get(row['StockCode'], row['UnitPrice']) if pd.isnull(row['UnitPrice']) else row['UnitPrice'],\n",
    "    axis=1\n",
    ")"
   ]
  },
  {
   "cell_type": "markdown",
   "metadata": {},
   "source": [
    "# Simpan Data Bersih\n",
    "## Setelah membersihkan data, simpan ke file Excel baru:"
   ]
  },
  {
   "cell_type": "code",
   "execution_count": 15,
   "metadata": {},
   "outputs": [
    {
     "name": "stdout",
     "output_type": "stream",
     "text": [
      "Data cleaned and saved to: /python/UTS/Online Retail-Fully-Cleaned.xlsx\n"
     ]
    }
   ],
   "source": [
    "# Save hasil cleaning ke file baru\n",
    "cleaned_file_path = '/python/UTS/Online Retail-Fully-Cleaned.xlsx'\n",
    "data.to_excel(cleaned_file_path, index=False)\n",
    "\n",
    "print(f\"Data cleaned and saved to: {cleaned_file_path}\")"
   ]
  }
 ],
 "metadata": {
  "kernelspec": {
   "display_name": "Python 3",
   "language": "python",
   "name": "python3"
  },
  "language_info": {
   "codemirror_mode": {
    "name": "ipython",
    "version": 3
   },
   "file_extension": ".py",
   "mimetype": "text/x-python",
   "name": "python",
   "nbconvert_exporter": "python",
   "pygments_lexer": "ipython3",
   "version": "3.13.0"
  }
 },
 "nbformat": 4,
 "nbformat_minor": 2
}
