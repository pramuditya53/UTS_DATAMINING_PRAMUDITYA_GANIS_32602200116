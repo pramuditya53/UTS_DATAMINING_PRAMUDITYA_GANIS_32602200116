{
 "cells": [
  {
   "cell_type": "code",
   "execution_count": 1,
   "metadata": {},
   "outputs": [],
   "source": [
    "# Import library yang dibutuhkan\n",
    "import pandas as pd\n",
    "import numpy as np"
   ]
  },
  {
   "cell_type": "code",
   "execution_count": 10,
   "metadata": {},
   "outputs": [],
   "source": [
    "# Load data dari file CSV\n",
    "file_path = 'Cleaned_Online_Retail_Data.csv'  # Pastikan file berada di folder kerja yang sama\n",
    "data = pd.read_csv(file_path)\n",
    "\n",
    "# Hitung jumlah data per negara\n",
    "country_counts = data['Country'].value_counts()\n"
   ]
  },
  {
   "cell_type": "code",
   "execution_count": 11,
   "metadata": {},
   "outputs": [],
   "source": [
    "# Fungsi untuk menghitung ukuran sampel berdasarkan margin of error (alpha)\n",
    "def calculate_sample_size(N, alpha):\n",
    "    # Z-score untuk tingkat kepercayaan 95% (alpha=0.03) dan 99% (alpha=0.01)\n",
    "    z = 1.96 if alpha == 0.03 else 2.58\n",
    "    p = 0.5  # Asumsi proporsi untuk variabilitas maksimum\n",
    "    e = alpha  # Margin of error\n",
    "    numerator = (z**2) * p * (1 - p)\n",
    "    denominator = (e**2) + ((z**2) * p * (1 - p) / N)\n",
    "    sample_size = numerator / denominator\n",
    "    return int(np.ceil(sample_size))  # Pembulatan ke atas"
   ]
  },
  {
   "cell_type": "code",
   "execution_count": 12,
   "metadata": {},
   "outputs": [],
   "source": [
    "# Hitung ukuran sampel untuk masing-masing negara dengan alpha 0.03 dan 0.01\n",
    "sample_sizes = pd.DataFrame({\n",
    "    'Country': country_counts.index,\n",
    "    'Total Data': country_counts.values,\n",
    "    'Sample Size (Alpha 0.03)': [calculate_sample_size(N, 0.03) for N in country_counts.values],\n",
    "    'Sample Size (Alpha 0.01)': [calculate_sample_size(N, 0.01) for N in country_counts.values]\n",
    "})"
   ]
  },
  {
   "cell_type": "code",
   "execution_count": 13,
   "metadata": {},
   "outputs": [
    {
     "name": "stdout",
     "output_type": "stream",
     "text": [
      "File hasil sampling telah disimpan sebagai: Sampling.xlsx\n"
     ]
    }
   ],
   "source": [
    "# Simpan hasil ke file Excel\n",
    "output_file = 'Sampling.xlsx'\n",
    "sample_sizes.to_excel(output_file, index=False)\n",
    "\n",
    "print(f\"File hasil sampling telah disimpan sebagai: {output_file}\")"
   ]
  }
 ],
 "metadata": {
  "kernelspec": {
   "display_name": "Python 3",
   "language": "python",
   "name": "python3"
  },
  "language_info": {
   "codemirror_mode": {
    "name": "ipython",
    "version": 3
   },
   "file_extension": ".py",
   "mimetype": "text/x-python",
   "name": "python",
   "nbconvert_exporter": "python",
   "pygments_lexer": "ipython3",
   "version": "3.13.0"
  }
 },
 "nbformat": 4,
 "nbformat_minor": 2
}
